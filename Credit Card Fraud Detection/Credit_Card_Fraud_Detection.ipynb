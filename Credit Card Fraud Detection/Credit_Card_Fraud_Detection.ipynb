{
  "nbformat": 4,
  "nbformat_minor": 0,
  "metadata": {
    "colab": {
      "provenance": []
    },
    "kernelspec": {
      "name": "python3",
      "display_name": "Python 3"
    },
    "language_info": {
      "name": "python"
    }
  },
  "cells": [
    {
      "cell_type": "code",
      "source": [
        "import pandas as pd\n",
        "import numpy as np\n",
        "from sklearn.model_selection import train_test_split\n",
        "from sklearn.linear_model import LogisticRegression\n",
        "from sklearn.metrics import roc_curve, auc\n",
        "from sklearn.tree import DecisionTreeClassifier\n",
        "from sklearn.neural_network import MLPClassifier\n",
        "from sklearn.ensemble import GradientBoostingClassifier\n",
        "import matplotlib.pyplot as plt\n"
      ],
      "metadata": {
        "id": "owH-ctT9VLL5"
      },
      "execution_count": 21,
      "outputs": []
    },
    {
      "cell_type": "code",
      "source": [
        "# Load the dataset\n",
        "creditcard_data = pd.read_csv(\"creditcard.csv\")"
      ],
      "metadata": {
        "id": "8gA4oFbgTF1E"
      },
      "execution_count": 2,
      "outputs": []
    },
    {
      "cell_type": "code",
      "source": [
        "# Basic Exploration\n",
        "print(creditcard_data.shape)\n",
        "print(creditcard_data.head(6))\n",
        "print(creditcard_data.tail(6))\n",
        "print(creditcard_data['Class'].value_counts())\n",
        "print(creditcard_data['Amount'].describe())\n",
        "print(creditcard_data.columns)\n",
        "print(creditcard_data['Amount'].var())\n",
        "print(creditcard_data['Amount'].std())\n",
        "\n"
      ],
      "metadata": {
        "id": "tvJJ_8gCTItD"
      },
      "execution_count": null,
      "outputs": []
    },
    {
      "cell_type": "code",
      "source": [
        "# Feature Scaling\n",
        "creditcard_data['Amount'] = (creditcard_data['Amount'] - creditcard_data['Amount'].mean()) / creditcard_data['Amount'].std()\n",
        "\n",
        "# Prepare the data\n",
        "NewData = creditcard_data.drop(columns=['Time'])  # Assuming 'Time' is the first column\n",
        "print(NewData.head())"
      ],
      "metadata": {
        "id": "-isF0wf9Yqhd"
      },
      "execution_count": 4,
      "outputs": []
    },
    {
      "cell_type": "code",
      "source": [
        "# Splitting the data\n",
        "X = NewData.drop('Class', axis=1)\n",
        "y = NewData['Class']\n",
        "X_train, X_test, y_train, y_test = train_test_split(X, y, test_size=0.20, random_state=123)\n",
        "\n"
      ],
      "metadata": {
        "colab": {
          "base_uri": "https://localhost:8080/"
        },
        "id": "h_yiVUUEYtF1",
        "outputId": "c187902f-da7e-413b-c934-601fc155d575"
      },
      "execution_count": 6,
      "outputs": [
        {
          "output_type": "stream",
          "name": "stdout",
          "text": [
            "         V1        V2        V3        V4        V5        V6        V7  \\\n",
            "0 -1.359807 -0.072781  2.536347  1.378155 -0.338321  0.462388  0.239599   \n",
            "1  1.191857  0.266151  0.166480  0.448154  0.060018 -0.082361 -0.078803   \n",
            "2 -1.358354 -1.340163  1.773209  0.379780 -0.503198  1.800499  0.791461   \n",
            "3 -0.966272 -0.185226  1.792993 -0.863291 -0.010309  1.247203  0.237609   \n",
            "4 -1.158233  0.877737  1.548718  0.403034 -0.407193  0.095921  0.592941   \n",
            "\n",
            "         V8        V9       V10  ...       V21       V22       V23       V24  \\\n",
            "0  0.098698  0.363787  0.090794  ... -0.018307  0.277838 -0.110474  0.066928   \n",
            "1  0.085102 -0.255425 -0.166974  ... -0.225775 -0.638672  0.101288 -0.339846   \n",
            "2  0.247676 -1.514654  0.207643  ...  0.247998  0.771679  0.909412 -0.689281   \n",
            "3  0.377436 -1.387024 -0.054952  ... -0.108300  0.005274 -0.190321 -1.175575   \n",
            "4 -0.270533  0.817739  0.753074  ... -0.009431  0.798278 -0.137458  0.141267   \n",
            "\n",
            "        V25       V26       V27       V28    Amount  Class  \n",
            "0  0.128539 -0.189115  0.133558 -0.021053  0.244964      0  \n",
            "1  0.167170  0.125895 -0.008983  0.014724 -0.342474      0  \n",
            "2 -0.327642 -0.139097 -0.055353 -0.059752  1.160684      0  \n",
            "3  0.647376 -0.221929  0.062723  0.061458  0.140534      0  \n",
            "4 -0.206010  0.502292  0.219422  0.215153 -0.073403      0  \n",
            "\n",
            "[5 rows x 30 columns]\n"
          ]
        }
      ]
    },
    {
      "cell_type": "code",
      "source": [
        "# Logistic Regression Model\n",
        "logistic_model = LogisticRegression()\n",
        "logistic_model.fit(X_train, y_train)\n",
        "lr_predictions = logistic_model.predict_proba(X_test)[:,1]"
      ],
      "metadata": {
        "id": "9heGcTqnwqHr"
      },
      "execution_count": null,
      "outputs": []
    },
    {
      "cell_type": "code",
      "source": [
        "# Plotting ROC Curve for Logistic Regression\n",
        "fpr, tpr, thresholds = roc_curve(y_test, lr_predictions)\n",
        "roc_auc = auc(fpr, tpr)\n",
        "plt.plot(fpr, tpr, color='blue', label=f'Logistic Regression AUC = {roc_auc:.2f}')\n",
        "plt.title('ROC Curve')\n",
        "plt.xlabel('False Positive Rate')\n",
        "plt.ylabel('True Positive Rate')\n",
        "plt.legend(loc='lower right')\n",
        "plt.show()\n"
      ],
      "metadata": {
        "id": "UxPJxwkAioMn"
      },
      "execution_count": null,
      "outputs": []
    },
    {
      "cell_type": "code",
      "source": [
        "# Decision Tree Model\n",
        "decision_tree_model = DecisionTreeClassifier()\n",
        "decision_tree_model.fit(X_train, y_train)\n",
        "dt_predictions = decision_tree_model.predict_proba(X_test)[:,1]"
      ],
      "metadata": {
        "id": "rUk5D-mbwxkE"
      },
      "execution_count": null,
      "outputs": []
    },
    {
      "cell_type": "code",
      "source": [
        "# Neural Network Model\n",
        "ann_model = MLPClassifier()\n",
        "ann_model.fit(X_train, y_train)\n",
        "ann_predictions = ann_model.predict_proba(X_test)[:,1]"
      ],
      "metadata": {
        "id": "yiJlS22CY5Z8"
      },
      "execution_count": 11,
      "outputs": []
    },
    {
      "cell_type": "code",
      "source": [
        "# Light GBM Model\n",
        "lgbm_model = LGBMClassifier(n_estimators=500, learning_rate=0.01, max_depth=3, num_leaves=31, min_data_in_leaf=100, subsample=0.5)\n",
        "lgbm_model.fit(X_train, y_train)\n",
        "lgbm_predictions = lgbm_model.predict_proba(X_test)[:, 1]"
      ],
      "metadata": {
        "id": "5-gVNcHZY6yh"
      },
      "execution_count": null,
      "outputs": []
    },
    {
      "cell_type": "code",
      "source": [
        "# Plotting ROC Curve for LightGBM\n",
        "fpr_lgbm, tpr_lgbm, thresholds_lgbm = roc_curve(y_test, lgbm_predictions)\n",
        "roc_auc_lgbm = auc(fpr_lgbm, tpr_lgbm)\n",
        "plt.figure(figsize=(8, 6))\n",
        "plt.plot(fpr_lgbm, tpr_lgbm, color='red', lw=2, label=f'LGBM AUC = {roc_auc_lgbm:.2f}')\n",
        "plt.plot([0, 1], [0, 1], color='navy', lw=2, linestyle='--')\n",
        "plt.xlim([0.0, 1.0])\n",
        "plt.ylim([0.0, 1.05])\n",
        "plt.xlabel('False Positive Rate')\n",
        "plt.ylabel('True Positive Rate')\n",
        "plt.title('ROC Curve - LightGBM')\n",
        "plt.legend(loc='lower right')\n",
        "plt.show()"
      ],
      "metadata": {
        "colab": {
          "base_uri": "https://localhost:8080/",
          "height": 564
        },
        "id": "JXaoRU9OY8JW",
        "outputId": "1c010f41-ab63-4701-8bbf-87cc5af3f129"
      },
      "execution_count": 16,
      "outputs": [
        {
          "output_type": "display_data",
          "data": {
            "text/plain": [
              "<Figure size 800x600 with 1 Axes>"
            ],
            "image/png": "[encoded data removed]"
          },
          "metadata": {}
        }
      ]
    },
    {
      "cell_type": "code",
      "source": [
        "# Print AUC values\n",
        "print(f'Logistic Regression AUC: {roc_auc:.2f}')\n",
        "print(f'LightGBM AUC: {roc_auc_lgbm:.2f}')"
      ],
      "metadata": {
        "colab": {
          "base_uri": "https://localhost:8080/"
        },
        "id": "vge74y5BY9Ry",
        "outputId": "504c4a62-c4f7-4813-e010-534bb5cce9d2"
      },
      "execution_count": 17,
      "outputs": [
        {
          "output_type": "stream",
          "name": "stdout",
          "text": [
            "Logistic Regression AUC: 0.98\n",
            "LightGBM AUC: 0.98\n"
          ]
        }
      ]
    },
    {
      "cell_type": "code",
      "source": [],
      "metadata": {
        "id": "30dlTp1UdyjS"
      },
      "execution_count": null,
      "outputs": []
    }
  ]
}